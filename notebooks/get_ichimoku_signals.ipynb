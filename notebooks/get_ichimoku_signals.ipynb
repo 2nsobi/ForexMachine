{
 "cells": [
  {
   "cell_type": "code",
   "execution_count": 8,
   "metadata": {},
   "outputs": [],
   "source": [
    "# external packages\n",
    "from pathlib import Path\n",
    "import matplotlib.pyplot as plt \n",
    "from importlib import reload\n",
    "import matplotlib\n",
    "%matplotlib qt\n",
    "import numpy as np\n",
    "matplotlib.style.use('default')\n",
    "from datetime import datetime\n",
    "import pandas as pd"
   ]
  },
  {
   "cell_type": "code",
   "execution_count": 9,
   "metadata": {},
   "outputs": [
    {
     "data": {
      "text/plain": [
       "<module 'ForexMachine.util' from 'c:\\\\github repos\\\\forexmachine\\\\ForexMachine\\\\util.py'>"
      ]
     },
     "execution_count": 9,
     "metadata": {},
     "output_type": "execute_result"
    }
   ],
   "source": [
    "# local modules and packages\n",
    "from ForexMachine.Preprocessing import get_indicators as gi\n",
    "from ForexMachine import util\n",
    "reload(gi)\n",
    "reload(util)"
   ]
  },
  {
   "cell_type": "code",
   "execution_count": 10,
   "metadata": {
    "scrolled": true
   },
   "outputs": [
    {
     "ename": "FileNotFoundError",
     "evalue": "[Errno 2] File ..\\ForexMachine\\Data\\RawData\\EURUSDi1440.csv does not exist: '..\\\\ForexMachine\\\\Data\\\\RawData\\\\EURUSDi1440.csv'",
     "output_type": "error",
     "traceback": [
      "\u001b[1;31m---------------------------------------------------------------------------\u001b[0m",
      "\u001b[1;31mFileNotFoundError\u001b[0m                         Traceback (most recent call last)",
      "\u001b[1;32m<ipython-input-10-814669cd7c1d>\u001b[0m in \u001b[0;36m<module>\u001b[1;34m\u001b[0m\n\u001b[0;32m      4\u001b[0m \u001b[0mindicators\u001b[0m \u001b[1;33m=\u001b[0m \u001b[0mconfig\u001b[0m\u001b[1;33m[\u001b[0m\u001b[0mcurrent_model\u001b[0m\u001b[1;33m]\u001b[0m\u001b[1;33m[\u001b[0m\u001b[1;34m'indicators'\u001b[0m\u001b[1;33m]\u001b[0m\u001b[1;33m\u001b[0m\u001b[1;33m\u001b[0m\u001b[0m\n\u001b[0;32m      5\u001b[0m \u001b[1;31m# Read in data with indicators\u001b[0m\u001b[1;33m\u001b[0m\u001b[1;33m\u001b[0m\u001b[1;33m\u001b[0m\u001b[0m\n\u001b[1;32m----> 6\u001b[1;33m \u001b[0mdata_with_indicators\u001b[0m \u001b[1;33m=\u001b[0m \u001b[0mgi\u001b[0m\u001b[1;33m.\u001b[0m\u001b[0madd_indicators_to_raw\u001b[0m\u001b[1;33m(\u001b[0m\u001b[0mfilepath\u001b[0m\u001b[1;33m=\u001b[0m\u001b[1;34m'..\\ForexMachine\\Data\\RawData\\EURUSDi1440.csv'\u001b[0m\u001b[1;33m,\u001b[0m\u001b[0msave_to_disk\u001b[0m\u001b[1;33m=\u001b[0m\u001b[1;32mTrue\u001b[0m\u001b[1;33m,\u001b[0m\u001b[0mconfig\u001b[0m\u001b[1;33m=\u001b[0m\u001b[0mconfig\u001b[0m\u001b[1;33m)\u001b[0m\u001b[1;33m\u001b[0m\u001b[1;33m\u001b[0m\u001b[0m\n\u001b[0m\u001b[0;32m      7\u001b[0m \u001b[0mdata_with_indicators\u001b[0m\u001b[1;33m.\u001b[0m\u001b[0mhead\u001b[0m\u001b[1;33m(\u001b[0m\u001b[1;33m)\u001b[0m\u001b[1;33m\u001b[0m\u001b[1;33m\u001b[0m\u001b[0m\n",
      "\u001b[1;32mc:\\github repos\\forexmachine\\ForexMachine\\Preprocessing\\get_indicators.py\u001b[0m in \u001b[0;36madd_indicators_to_raw\u001b[1;34m(filepath, config, broker, save_to_disk, file_save_name)\u001b[0m\n\u001b[0;32m     18\u001b[0m     \u001b[1;32mif\u001b[0m \u001b[0mbroker\u001b[0m \u001b[1;33m==\u001b[0m \u001b[1;34m'tw'\u001b[0m\u001b[1;33m:\u001b[0m\u001b[1;33m\u001b[0m\u001b[1;33m\u001b[0m\u001b[0m\n\u001b[0;32m     19\u001b[0m         \u001b[0mcolumn_headers\u001b[0m\u001b[1;33m.\u001b[0m\u001b[0mextend\u001b[0m\u001b[1;33m(\u001b[0m\u001b[1;33m(\u001b[0m\u001b[1;34m'Date'\u001b[0m\u001b[1;33m,\u001b[0m \u001b[1;34m'Time'\u001b[0m\u001b[1;33m,\u001b[0m \u001b[1;34m'Open'\u001b[0m\u001b[1;33m,\u001b[0m \u001b[1;34m'High'\u001b[0m\u001b[1;33m,\u001b[0m \u001b[1;34m'Low'\u001b[0m\u001b[1;33m,\u001b[0m \u001b[1;34m'Close'\u001b[0m\u001b[1;33m,\u001b[0m \u001b[1;34m'Volume'\u001b[0m\u001b[1;33m)\u001b[0m\u001b[1;33m)\u001b[0m\u001b[1;33m\u001b[0m\u001b[1;33m\u001b[0m\u001b[0m\n\u001b[1;32m---> 20\u001b[1;33m         \u001b[0mraw_data\u001b[0m \u001b[1;33m=\u001b[0m \u001b[0mpd\u001b[0m\u001b[1;33m.\u001b[0m\u001b[0mread_csv\u001b[0m\u001b[1;33m(\u001b[0m\u001b[0mfilepath\u001b[0m\u001b[1;33m,\u001b[0m \u001b[0mnames\u001b[0m\u001b[1;33m=\u001b[0m\u001b[0mcolumn_headers\u001b[0m\u001b[1;33m)\u001b[0m\u001b[1;33m\u001b[0m\u001b[1;33m\u001b[0m\u001b[0m\n\u001b[0m\u001b[0;32m     21\u001b[0m \u001b[1;33m\u001b[0m\u001b[0m\n\u001b[0;32m     22\u001b[0m     \u001b[0madd_datetimes\u001b[0m\u001b[1;33m(\u001b[0m\u001b[0mraw_data\u001b[0m\u001b[1;33m)\u001b[0m\u001b[1;33m\u001b[0m\u001b[1;33m\u001b[0m\u001b[0m\n",
      "\u001b[1;32mc:\\github repos\\forexmachine\\env\\lib\\site-packages\\pandas\\io\\parsers.py\u001b[0m in \u001b[0;36mparser_f\u001b[1;34m(filepath_or_buffer, sep, delimiter, header, names, index_col, usecols, squeeze, prefix, mangle_dupe_cols, dtype, engine, converters, true_values, false_values, skipinitialspace, skiprows, skipfooter, nrows, na_values, keep_default_na, na_filter, verbose, skip_blank_lines, parse_dates, infer_datetime_format, keep_date_col, date_parser, dayfirst, cache_dates, iterator, chunksize, compression, thousands, decimal, lineterminator, quotechar, quoting, doublequote, escapechar, comment, encoding, dialect, error_bad_lines, warn_bad_lines, delim_whitespace, low_memory, memory_map, float_precision)\u001b[0m\n\u001b[0;32m    674\u001b[0m         )\n\u001b[0;32m    675\u001b[0m \u001b[1;33m\u001b[0m\u001b[0m\n\u001b[1;32m--> 676\u001b[1;33m         \u001b[1;32mreturn\u001b[0m \u001b[0m_read\u001b[0m\u001b[1;33m(\u001b[0m\u001b[0mfilepath_or_buffer\u001b[0m\u001b[1;33m,\u001b[0m \u001b[0mkwds\u001b[0m\u001b[1;33m)\u001b[0m\u001b[1;33m\u001b[0m\u001b[1;33m\u001b[0m\u001b[0m\n\u001b[0m\u001b[0;32m    677\u001b[0m \u001b[1;33m\u001b[0m\u001b[0m\n\u001b[0;32m    678\u001b[0m     \u001b[0mparser_f\u001b[0m\u001b[1;33m.\u001b[0m\u001b[0m__name__\u001b[0m \u001b[1;33m=\u001b[0m \u001b[0mname\u001b[0m\u001b[1;33m\u001b[0m\u001b[1;33m\u001b[0m\u001b[0m\n",
      "\u001b[1;32mc:\\github repos\\forexmachine\\env\\lib\\site-packages\\pandas\\io\\parsers.py\u001b[0m in \u001b[0;36m_read\u001b[1;34m(filepath_or_buffer, kwds)\u001b[0m\n\u001b[0;32m    446\u001b[0m \u001b[1;33m\u001b[0m\u001b[0m\n\u001b[0;32m    447\u001b[0m     \u001b[1;31m# Create the parser.\u001b[0m\u001b[1;33m\u001b[0m\u001b[1;33m\u001b[0m\u001b[1;33m\u001b[0m\u001b[0m\n\u001b[1;32m--> 448\u001b[1;33m     \u001b[0mparser\u001b[0m \u001b[1;33m=\u001b[0m \u001b[0mTextFileReader\u001b[0m\u001b[1;33m(\u001b[0m\u001b[0mfp_or_buf\u001b[0m\u001b[1;33m,\u001b[0m \u001b[1;33m**\u001b[0m\u001b[0mkwds\u001b[0m\u001b[1;33m)\u001b[0m\u001b[1;33m\u001b[0m\u001b[1;33m\u001b[0m\u001b[0m\n\u001b[0m\u001b[0;32m    449\u001b[0m \u001b[1;33m\u001b[0m\u001b[0m\n\u001b[0;32m    450\u001b[0m     \u001b[1;32mif\u001b[0m \u001b[0mchunksize\u001b[0m \u001b[1;32mor\u001b[0m \u001b[0miterator\u001b[0m\u001b[1;33m:\u001b[0m\u001b[1;33m\u001b[0m\u001b[1;33m\u001b[0m\u001b[0m\n",
      "\u001b[1;32mc:\\github repos\\forexmachine\\env\\lib\\site-packages\\pandas\\io\\parsers.py\u001b[0m in \u001b[0;36m__init__\u001b[1;34m(self, f, engine, **kwds)\u001b[0m\n\u001b[0;32m    878\u001b[0m             \u001b[0mself\u001b[0m\u001b[1;33m.\u001b[0m\u001b[0moptions\u001b[0m\u001b[1;33m[\u001b[0m\u001b[1;34m\"has_index_names\"\u001b[0m\u001b[1;33m]\u001b[0m \u001b[1;33m=\u001b[0m \u001b[0mkwds\u001b[0m\u001b[1;33m[\u001b[0m\u001b[1;34m\"has_index_names\"\u001b[0m\u001b[1;33m]\u001b[0m\u001b[1;33m\u001b[0m\u001b[1;33m\u001b[0m\u001b[0m\n\u001b[0;32m    879\u001b[0m \u001b[1;33m\u001b[0m\u001b[0m\n\u001b[1;32m--> 880\u001b[1;33m         \u001b[0mself\u001b[0m\u001b[1;33m.\u001b[0m\u001b[0m_make_engine\u001b[0m\u001b[1;33m(\u001b[0m\u001b[0mself\u001b[0m\u001b[1;33m.\u001b[0m\u001b[0mengine\u001b[0m\u001b[1;33m)\u001b[0m\u001b[1;33m\u001b[0m\u001b[1;33m\u001b[0m\u001b[0m\n\u001b[0m\u001b[0;32m    881\u001b[0m \u001b[1;33m\u001b[0m\u001b[0m\n\u001b[0;32m    882\u001b[0m     \u001b[1;32mdef\u001b[0m \u001b[0mclose\u001b[0m\u001b[1;33m(\u001b[0m\u001b[0mself\u001b[0m\u001b[1;33m)\u001b[0m\u001b[1;33m:\u001b[0m\u001b[1;33m\u001b[0m\u001b[1;33m\u001b[0m\u001b[0m\n",
      "\u001b[1;32mc:\\github repos\\forexmachine\\env\\lib\\site-packages\\pandas\\io\\parsers.py\u001b[0m in \u001b[0;36m_make_engine\u001b[1;34m(self, engine)\u001b[0m\n\u001b[0;32m   1112\u001b[0m     \u001b[1;32mdef\u001b[0m \u001b[0m_make_engine\u001b[0m\u001b[1;33m(\u001b[0m\u001b[0mself\u001b[0m\u001b[1;33m,\u001b[0m \u001b[0mengine\u001b[0m\u001b[1;33m=\u001b[0m\u001b[1;34m\"c\"\u001b[0m\u001b[1;33m)\u001b[0m\u001b[1;33m:\u001b[0m\u001b[1;33m\u001b[0m\u001b[1;33m\u001b[0m\u001b[0m\n\u001b[0;32m   1113\u001b[0m         \u001b[1;32mif\u001b[0m \u001b[0mengine\u001b[0m \u001b[1;33m==\u001b[0m \u001b[1;34m\"c\"\u001b[0m\u001b[1;33m:\u001b[0m\u001b[1;33m\u001b[0m\u001b[1;33m\u001b[0m\u001b[0m\n\u001b[1;32m-> 1114\u001b[1;33m             \u001b[0mself\u001b[0m\u001b[1;33m.\u001b[0m\u001b[0m_engine\u001b[0m \u001b[1;33m=\u001b[0m \u001b[0mCParserWrapper\u001b[0m\u001b[1;33m(\u001b[0m\u001b[0mself\u001b[0m\u001b[1;33m.\u001b[0m\u001b[0mf\u001b[0m\u001b[1;33m,\u001b[0m \u001b[1;33m**\u001b[0m\u001b[0mself\u001b[0m\u001b[1;33m.\u001b[0m\u001b[0moptions\u001b[0m\u001b[1;33m)\u001b[0m\u001b[1;33m\u001b[0m\u001b[1;33m\u001b[0m\u001b[0m\n\u001b[0m\u001b[0;32m   1115\u001b[0m         \u001b[1;32melse\u001b[0m\u001b[1;33m:\u001b[0m\u001b[1;33m\u001b[0m\u001b[1;33m\u001b[0m\u001b[0m\n\u001b[0;32m   1116\u001b[0m             \u001b[1;32mif\u001b[0m \u001b[0mengine\u001b[0m \u001b[1;33m==\u001b[0m \u001b[1;34m\"python\"\u001b[0m\u001b[1;33m:\u001b[0m\u001b[1;33m\u001b[0m\u001b[1;33m\u001b[0m\u001b[0m\n",
      "\u001b[1;32mc:\\github repos\\forexmachine\\env\\lib\\site-packages\\pandas\\io\\parsers.py\u001b[0m in \u001b[0;36m__init__\u001b[1;34m(self, src, **kwds)\u001b[0m\n\u001b[0;32m   1889\u001b[0m         \u001b[0mkwds\u001b[0m\u001b[1;33m[\u001b[0m\u001b[1;34m\"usecols\"\u001b[0m\u001b[1;33m]\u001b[0m \u001b[1;33m=\u001b[0m \u001b[0mself\u001b[0m\u001b[1;33m.\u001b[0m\u001b[0musecols\u001b[0m\u001b[1;33m\u001b[0m\u001b[1;33m\u001b[0m\u001b[0m\n\u001b[0;32m   1890\u001b[0m \u001b[1;33m\u001b[0m\u001b[0m\n\u001b[1;32m-> 1891\u001b[1;33m         \u001b[0mself\u001b[0m\u001b[1;33m.\u001b[0m\u001b[0m_reader\u001b[0m \u001b[1;33m=\u001b[0m \u001b[0mparsers\u001b[0m\u001b[1;33m.\u001b[0m\u001b[0mTextReader\u001b[0m\u001b[1;33m(\u001b[0m\u001b[0msrc\u001b[0m\u001b[1;33m,\u001b[0m \u001b[1;33m**\u001b[0m\u001b[0mkwds\u001b[0m\u001b[1;33m)\u001b[0m\u001b[1;33m\u001b[0m\u001b[1;33m\u001b[0m\u001b[0m\n\u001b[0m\u001b[0;32m   1892\u001b[0m         \u001b[0mself\u001b[0m\u001b[1;33m.\u001b[0m\u001b[0munnamed_cols\u001b[0m \u001b[1;33m=\u001b[0m \u001b[0mself\u001b[0m\u001b[1;33m.\u001b[0m\u001b[0m_reader\u001b[0m\u001b[1;33m.\u001b[0m\u001b[0munnamed_cols\u001b[0m\u001b[1;33m\u001b[0m\u001b[1;33m\u001b[0m\u001b[0m\n\u001b[0;32m   1893\u001b[0m \u001b[1;33m\u001b[0m\u001b[0m\n",
      "\u001b[1;32mpandas\\_libs\\parsers.pyx\u001b[0m in \u001b[0;36mpandas._libs.parsers.TextReader.__cinit__\u001b[1;34m()\u001b[0m\n",
      "\u001b[1;32mpandas\\_libs\\parsers.pyx\u001b[0m in \u001b[0;36mpandas._libs.parsers.TextReader._setup_parser_source\u001b[1;34m()\u001b[0m\n",
      "\u001b[1;31mFileNotFoundError\u001b[0m: [Errno 2] File ..\\ForexMachine\\Data\\RawData\\EURUSDi1440.csv does not exist: '..\\\\ForexMachine\\\\Data\\\\RawData\\\\EURUSDi1440.csv'"
     ]
    }
   ],
   "source": [
    "# convert config to dictionary\n",
    "config = util.yaml_to_dict()\n",
    "current_model = config['current_model']\n",
    "indicators = config[current_model]['indicators']\n",
    "# Read in data with indicators\n",
    "data_with_indicators = gi.add_indicators_to_raw(filepath='..\\Data\\RawData\\EURUSDi1440.csv',save_to_disk=True,config=config)\n",
    "data_with_indicators.head()"
   ]
  },
  {
   "cell_type": "code",
   "execution_count": 4,
   "metadata": {
    "scrolled": true
   },
   "outputs": [],
   "source": [
    "def get_index_range(df,datetime1,datetime2):\n",
    "    i1 = -1\n",
    "    i2 = -1\n",
    "    if datetime1 <= datetime2:\n",
    "        for i in range(len(df)):\n",
    "            i1 = i\n",
    "            if df['datetime'][i] == datetime1:\n",
    "                break\n",
    "            if df['datetime'][i] > datetime1:\n",
    "                i1 = i-1 if i-1 >= 0 else 0\n",
    "                break\n",
    "        for i in range(i1, len(df)):\n",
    "            i2 = i\n",
    "            if df['datetime'][i] == datetime2:\n",
    "                break\n",
    "            if df['datetime'][i] > datetime2:\n",
    "                i2 = i-1 if i-1 >= 0 else 0\n",
    "                break\n",
    "    return i1, i2\n",
    "\n",
    "# date format 'yyyy.mm.dd'\n",
    "def show_data_from_range(df, date1, date2, main_indicators = [], sub_indicators = []):\n",
    "    start, stop = get_index_range(df, pd.Timestamp.fromisoformat(date1), pd.Timestamp.fromisoformat(date2))\n",
    "    if start < 0 or stop < 0:\n",
    "        print('invalid dates')\n",
    "        return\n",
    "    data_range = df.iloc[start:stop+1]\n",
    "    chart_count = len(sub_indicators) + 1\n",
    "    \n",
    "    top_chart_ratio = 1\n",
    "    sub_chart_ratio = 0\n",
    "    if chart_count == 2:\n",
    "        top_chart_ratio = 3\n",
    "        sub_chart_ratio = 2 / (chart_count-1)\n",
    "    if chart_count > 2:\n",
    "        top_chart_ratio = 1\n",
    "        sub_chart_ratio = 1 / (chart_count-1)\n",
    "    height_ratios = [top_chart_ratio]\n",
    "    height_ratios.extend([sub_chart_ratio]*(chart_count-1))\n",
    "    fig, axes = plt.subplots(chart_count,1,sharex='col', gridspec_kw={'height_ratios':height_ratios})\n",
    "    fig.tight_layout(pad=1.8, h_pad=0.0)\n",
    "    \n",
    "    top_ax = None\n",
    "    bottom_ax = None\n",
    "    if chart_count > 1:\n",
    "        top_ax = axes[0]\n",
    "        bottom_ax = axes[len(axes)-1]\n",
    "    else:\n",
    "        bottom_ax = top_ax = axes\n",
    "    top_ax.plot(data_range.Close.to_list(), label='Close',color='brown')\n",
    "    \n",
    "    plot_indicator_funcs = {\n",
    "        'ichimoku': lambda ax, df: add_ichimoku_to_plot(ax, df),\n",
    "        'rsi': lambda ax, df: add_rsi_to_plot(ax ,df)\n",
    "    }\n",
    "    \n",
    "    for indicator in main_indicators:\n",
    "        plot_indicator_funcs[indicator](top_ax, data_range)\n",
    "    \n",
    "    for i in range(len(sub_indicators)):\n",
    "        plot_indicator_funcs[sub_indicators[i]](axes[i+1], data_range)\n",
    "\n",
    "    bottom_ax.set_xticks(np.arange(len(data_range)))\n",
    "    #     condition = data_range.index % 10 == 0\n",
    "    #     condition[-1] = True\n",
    "    #     x_labels = np.where(condition, data_range['Date'], None)\n",
    "    x_labels = data_range['Date']\n",
    "#     top_ax.axvline(stop-start-5,color='red')\n",
    "    bottom_ax.set_xticklabels(x_labels,rotation=90)\n",
    "    \n",
    "    if chart_count > 1:\n",
    "        for ax in axes:\n",
    "            ax.legend()\n",
    "    else:\n",
    "        top_ax.legend()\n",
    "    plt.show()"
   ]
  },
  {
   "cell_type": "code",
   "execution_count": 5,
   "metadata": {},
   "outputs": [],
   "source": [
    "\"\"\"\n",
    "Functions for adding indicators to a matplotlib chart\n",
    "\"\"\"\n",
    "\n",
    "def add_ichimoku_to_plot(ax, df):\n",
    "    ax.plot(df.trend_visual_ichimoku_a.to_list(), label='Senkou-Span a',linestyle='--',color='green')\n",
    "    ax.plot(df.trend_visual_ichimoku_b.to_list(), label='Senkou-Span b',linestyle='--',color='red')\n",
    "    ax.fill_between(np.arange(len(df)),df.trend_visual_ichimoku_a,\n",
    "                    df.trend_visual_ichimoku_b,alpha=0.2,color='green',\n",
    "                    where=(df.trend_visual_ichimoku_a > df.trend_visual_ichimoku_b))\n",
    "    ax.fill_between(np.arange(len(df)),df.trend_visual_ichimoku_a,\n",
    "                    df.trend_visual_ichimoku_b,alpha=0.2,color='red',\n",
    "                    where=(df.trend_visual_ichimoku_a <= df.trend_visual_ichimoku_b))\n",
    "    ax.plot(df.trend_ichimoku_conv.to_list(), label='Tenkan-Sen (conversion)',color='cyan')\n",
    "    ax.plot(df.trend_ichimoku_base.to_list(), label='Kijun Sen (base)',color='blue')\n",
    "    ax.plot(df.chikou_span.to_list(), label='chikou span',linestyle=':',color='orange')\n",
    "\n",
    "def add_rsi_to_plot(ax, df):\n",
    "    ax.plot(df.momentum_rsi.to_list(), label='RSI', color='purple')\n",
    "    ax.plot([30]*len(df),color='gray',alpha=0.5)\n",
    "    ax.plot([70]*len(df),color='gray',alpha=0.5)\n",
    "    ax.fill_between(np.arange(len(df)),[30]*len(df),[70]*len(df),color='gray',alpha=0.2)\n",
    "    ax.set_ylim(15,85)\n",
    "    ax.set_yticks(np.arange(20,100,20))"
   ]
  },
  {
   "cell_type": "code",
   "execution_count": 6,
   "metadata": {},
   "outputs": [
    {
     "ename": "NameError",
     "evalue": "name 'data_with_indicators' is not defined",
     "output_type": "error",
     "traceback": [
      "\u001b[1;31m---------------------------------------------------------------------------\u001b[0m",
      "\u001b[1;31mNameError\u001b[0m                                 Traceback (most recent call last)",
      "\u001b[1;32m<ipython-input-6-296f3836fcd0>\u001b[0m in \u001b[0;36m<module>\u001b[1;34m\u001b[0m\n\u001b[1;32m----> 1\u001b[1;33m \u001b[0mshow_data_from_range\u001b[0m\u001b[1;33m(\u001b[0m\u001b[0mdata_with_indicators\u001b[0m\u001b[1;33m,\u001b[0m \u001b[1;34m'2020-04-28T03:25'\u001b[0m\u001b[1;33m,\u001b[0m \u001b[1;34m'2020-06-05'\u001b[0m\u001b[1;33m,\u001b[0m \u001b[0mmain_indicators\u001b[0m\u001b[1;33m=\u001b[0m\u001b[1;33m[\u001b[0m\u001b[1;34m'ichimoku'\u001b[0m\u001b[1;33m]\u001b[0m\u001b[1;33m,\u001b[0m \u001b[0msub_indicators\u001b[0m\u001b[1;33m=\u001b[0m\u001b[1;33m[\u001b[0m\u001b[1;34m'rsi'\u001b[0m\u001b[1;33m]\u001b[0m\u001b[1;33m)\u001b[0m\u001b[1;33m\u001b[0m\u001b[1;33m\u001b[0m\u001b[0m\n\u001b[0m",
      "\u001b[1;31mNameError\u001b[0m: name 'data_with_indicators' is not defined"
     ]
    }
   ],
   "source": [
    "show_data_from_range(data_with_indicators, '2020-04-28T03:25', '2020-06-05', main_indicators=['ichimoku'], sub_indicators=['rsi'])"
   ]
  },
  {
   "cell_type": "code",
   "execution_count": 7,
   "metadata": {},
   "outputs": [
    {
     "ename": "NameError",
     "evalue": "name 'data_with_indicators' is not defined",
     "output_type": "error",
     "traceback": [
      "\u001b[1;31m---------------------------------------------------------------------------\u001b[0m",
      "\u001b[1;31mNameError\u001b[0m                                 Traceback (most recent call last)",
      "\u001b[1;32m<ipython-input-7-7cbd4620ec49>\u001b[0m in \u001b[0;36m<module>\u001b[1;34m\u001b[0m\n\u001b[0;32m     50\u001b[0m \u001b[1;33m\u001b[0m\u001b[0m\n\u001b[0;32m     51\u001b[0m \u001b[1;33m\u001b[0m\u001b[0m\n\u001b[1;32m---> 52\u001b[1;33m \u001b[0madd_ichimoku_features\u001b[0m\u001b[1;33m(\u001b[0m\u001b[0mdata_with_indicators\u001b[0m\u001b[1;33m)\u001b[0m\u001b[1;33m\u001b[0m\u001b[1;33m\u001b[0m\u001b[0m\n\u001b[0m\u001b[0;32m     53\u001b[0m \u001b[0mdata_with_indicators\u001b[0m\u001b[1;33m.\u001b[0m\u001b[0mtail\u001b[0m\u001b[1;33m(\u001b[0m\u001b[1;36m15\u001b[0m\u001b[1;33m)\u001b[0m\u001b[1;33m\u001b[0m\u001b[1;33m\u001b[0m\u001b[0m\n\u001b[0;32m     54\u001b[0m \u001b[1;33m\u001b[0m\u001b[0m\n",
      "\u001b[1;31mNameError\u001b[0m: name 'data_with_indicators' is not defined"
     ]
    }
   ],
   "source": [
    "\"\"\"\n",
    "Functions for adding ichimoku specific signals to data\n",
    "\"\"\"\n",
    "\n",
    "def add_ichimoku_features(df):\n",
    "    is_price_above_cb_lines = []\n",
    "    is_price_above_cloud = []\n",
    "    is_price_inside_cloud = []\n",
    "    is_price_below_cloud = []\n",
    "    \n",
    "    for row in data_with_indicators.itertuples():\n",
    "        cloud_top = None\n",
    "        cloud_bottom = None  \n",
    "        if row.trend_visual_ichimoku_a >= row.trend_visual_ichimoku_b:\n",
    "            cloud_top = row.trend_visual_ichimoku_a\n",
    "            cloud_bottom = row.trend_visual_ichimoku_b\n",
    "        else:\n",
    "            cloud_top = row.trend_visual_ichimoku_b\n",
    "            cloud_bottom = row.trend_visual_ichimoku_a\n",
    "            \n",
    "        if pd.isna(row.trend_ichimoku_conv) or pd.isna(row.trend_ichimoku_base):\n",
    "            is_price_above_cb_lines.append(None)\n",
    "            is_price_above_cloud.append(None)\n",
    "            is_price_inside_cloud.append(None)\n",
    "            is_price_below_cloud.append(None)\n",
    "        else:\n",
    "            if row.Close > row.trend_ichimoku_conv and row.Close > row.trend_ichimoku_base:\n",
    "                is_price_above_cb_lines.append(True)\n",
    "            else:\n",
    "                is_price_above_cb_lines.append(False)\n",
    "                \n",
    "            if row.Close > cloud_bottom and row.Close < cloud_top:\n",
    "                is_price_inside_cloud.append(True)\n",
    "                is_price_above_cloud.append(False)\n",
    "                is_price_below_cloud.append(False)\n",
    "            else:\n",
    "                is_price_inside_cloud.append(False)\n",
    "                if row.Close <= cloud_bottom:\n",
    "                    is_price_above_cloud.append(False)\n",
    "                    is_price_below_cloud.append(True)\n",
    "                else:\n",
    "                    is_price_above_cloud.append(True)\n",
    "                    is_price_below_cloud.append(False)\n",
    "        \n",
    "    df['is_price_above_cb_lines'] = is_price_above_cb_lines\n",
    "    df['is_price_above_cloud'] = is_price_above_cloud\n",
    "    df['is_price_inside_cloud'] = is_price_inside_cloud\n",
    "    df['is_price_below_cloud'] = is_price_below_cloud\n",
    "\n",
    "    \n",
    "\n",
    "add_ichimoku_features(data_with_indicators)\n",
    "data_with_indicators.tail(15)\n",
    "\n",
    "\"\"\"\n",
    "Function Idea:  When computing the output for a given test input, in other words when deciding if it was best\n",
    "                to buy or sell at this point, create a function that takes a \"max_loss\" kinda arg, so if you\n",
    "                lose more than max_loss...\n",
    "\"\"\""
   ]
  },
  {
   "cell_type": "code",
   "execution_count": null,
   "metadata": {},
   "outputs": [],
   "source": []
  }
 ],
 "metadata": {
  "kernelspec": {
   "display_name": "Python 3",
   "language": "python",
   "name": "python3"
  },
  "language_info": {
   "codemirror_mode": {
    "name": "ipython",
    "version": 3
   },
   "file_extension": ".py",
   "mimetype": "text/x-python",
   "name": "python",
   "nbconvert_exporter": "python",
   "pygments_lexer": "ipython3",
   "version": "3.7.7"
  }
 },
 "nbformat": 4,
 "nbformat_minor": 4
}
